{
 "cells": [
  {
   "cell_type": "code",
   "execution_count": 15,
   "id": "f45a097f",
   "metadata": {},
   "outputs": [
    {
     "ename": "ModuleNotFoundError",
     "evalue": "No module named 'keras.model'",
     "output_type": "error",
     "traceback": [
      "\u001b[1;31m---------------------------------------------------------------------------\u001b[0m",
      "\u001b[1;31mModuleNotFoundError\u001b[0m                       Traceback (most recent call last)",
      "\u001b[1;32mg:\\Desk Champions\\Hackathon.ipynb Cell 1\u001b[0m in \u001b[0;36m<cell line: 7>\u001b[1;34m()\u001b[0m\n\u001b[0;32m      <a href='vscode-notebook-cell:/g%3A/Desk%20Champions/Hackathon.ipynb#W0sZmlsZQ%3D%3D?line=4'>5</a>\u001b[0m \u001b[39mimport\u001b[39;00m \u001b[39mmatplotlib\u001b[39;00m\u001b[39m.\u001b[39;00m pyplot \u001b[39mas\u001b[39;00m plt\n\u001b[0;32m      <a href='vscode-notebook-cell:/g%3A/Desk%20Champions/Hackathon.ipynb#W0sZmlsZQ%3D%3D?line=5'>6</a>\u001b[0m \u001b[39mimport\u001b[39;00m \u001b[39mtensorflow\u001b[39;00m \u001b[39mas\u001b[39;00m \u001b[39mtf\u001b[39;00m\n\u001b[1;32m----> <a href='vscode-notebook-cell:/g%3A/Desk%20Champions/Hackathon.ipynb#W0sZmlsZQ%3D%3D?line=6'>7</a>\u001b[0m \u001b[39mfrom\u001b[39;00m \u001b[39mkeras\u001b[39;00m\u001b[39m.\u001b[39;00m\u001b[39mmodel\u001b[39;00m \u001b[39mimport\u001b[39;00m load_model\n\u001b[0;32m      <a href='vscode-notebook-cell:/g%3A/Desk%20Champions/Hackathon.ipynb#W0sZmlsZQ%3D%3D?line=7'>8</a>\u001b[0m \u001b[39mimport\u001b[39;00m \u001b[39mnumpy\u001b[39;00m \u001b[39mas\u001b[39;00m \u001b[39mnp\u001b[39;00m\n\u001b[0;32m      <a href='vscode-notebook-cell:/g%3A/Desk%20Champions/Hackathon.ipynb#W0sZmlsZQ%3D%3D?line=8'>9</a>\u001b[0m \u001b[39mimport\u001b[39;00m \u001b[39mcv2\u001b[39;00m\n",
      "\u001b[1;31mModuleNotFoundError\u001b[0m: No module named 'keras.model'"
     ]
    }
   ],
   "source": [
    "from tensorflow.keras.preprocessing.image import ImageDataGenerator\n",
    "from keras.preprocessing.image import ImageDataGenerator\n",
    "from tensorflow.keras.preprocessing import image\n",
    "from tensorflow.keras.optimizers import RMSprop\n",
    "import matplotlib. pyplot as plt\n",
    "import tensorflow as tf\n",
    "from keras.model import load_model\n",
    "import numpy as np\n",
    "import cv2\n",
    "import os"
   ]
  },
  {
   "cell_type": "code",
   "execution_count": 8,
   "id": "984cf6e7",
   "metadata": {},
   "outputs": [],
   "source": [
    "datagen = ImageDataGenerator(\n",
    "        rotation_range=40,\n",
    "        shear_range=0.2,\n",
    "        horizontal_flip=True,\n",
    "        fill_mode='nearest')\n",
    "\n",
    "dir_path =\"G:/Desk Champions/Curve_NoCurve_Dataset/Curve_Images\"\n",
    "\n",
    "for i in os.listdir (dir_path):\n",
    "    img = image.load_img(dir_path+'//'+ i, target_size=(256, 256)) # this is a PIL image\n",
    "    x = image.img_to_array(img)  # this is a Numpy array with shape (3, 150, 150)\n",
    "    x = x.reshape((1,)+x.shape)  # this is a Numpy array with shape (1, 3, 150\n",
    "\n",
    "    # the .flow() command below generates batches of randomly transformed images\n",
    "    # and saves the results to the `preview/` directory\n",
    "    i = 0\n",
    "    for batch in datagen.flow(x, batch_size=1,save_to_dir='G:/Desk Champions/Augumentation/curve', save_prefix='curve', save_format='png'):\n",
    "        i += 1\n",
    "        if i > 4:\n",
    "            break  # otherwise the generator would loop indefinitely"
   ]
  },
  {
   "cell_type": "code",
   "execution_count": 9,
   "id": "3a44f48f",
   "metadata": {},
   "outputs": [],
   "source": [
    "datagen = ImageDataGenerator(\n",
    "        rotation_range=40,\n",
    "        shear_range=0.2,\n",
    "        horizontal_flip=True,\n",
    "        fill_mode='nearest')\n",
    "\n",
    "dir_path =\"G:/Desk Champions/Curve_NoCurve_Dataset/No_Curve_Images\"\n",
    "\n",
    "for i in os.listdir (dir_path):\n",
    "    img = image.load_img(dir_path+'//'+ i, target_size=(256, 256)) # this is a PIL image\n",
    "    x = image.img_to_array(img)  # this is a Numpy array with shape (3, 150, 150)\n",
    "    x = x.reshape((1,)+x.shape)  # this is a Numpy array with shape (1, 3, 150\n",
    "\n",
    "    # the .flow() command below generates batches of randomly transformed images\n",
    "    # and saves the results to the `preview/` directory\n",
    "    i = 0\n",
    "    for batch in datagen.flow(x, batch_size=1,save_to_dir='G:/Desk Champions/Augumentation/no_curve', save_prefix='Notcurve', save_format='png'):\n",
    "        i += 1\n",
    "        if i > 4:\n",
    "            break  # otherwise the generator would loop indefinitely"
   ]
  },
  {
   "cell_type": "code",
   "execution_count": 3,
   "id": "224b1459",
   "metadata": {},
   "outputs": [],
   "source": [
    "train = ImageDataGenerator (rescale= 1/255)\n",
    "validation =ImageDataGenerator (rescale= 1/255)"
   ]
  },
  {
   "cell_type": "code",
   "execution_count": 10,
   "id": "bc653265",
   "metadata": {},
   "outputs": [
    {
     "name": "stdout",
     "output_type": "stream",
     "text": [
      "Found 3000 images belonging to 2 classes.\n",
      "Found 1000 images belonging to 2 classes.\n"
     ]
    }
   ],
   "source": [
    "#Defining Training Dataset\n",
    "train_dataset = train.flow_from_directory(\"Training/\",\n",
    "                                            target_size= (200,200),\n",
    "                                            batch_size = 3,\n",
    "                                            class_mode ='binary')\n",
    "#Defining Validation Dataset\n",
    "validation_dataset = validation.flow_from_directory(\"Validation/\",\n",
    "                                            target_size= (200,200),\n",
    "                                            batch_size = 3,\n",
    "                                            class_mode = 'binary')"
   ]
  },
  {
   "cell_type": "code",
   "execution_count": 11,
   "id": "82f36d0a",
   "metadata": {},
   "outputs": [
    {
     "data": {
      "text/plain": [
       "{'Curve': 0, 'Not a Curve': 1}"
      ]
     },
     "execution_count": 11,
     "metadata": {},
     "output_type": "execute_result"
    }
   ],
   "source": [
    "train_dataset.class_indices"
   ]
  },
  {
   "cell_type": "code",
   "execution_count": 12,
   "id": "a938e8c5",
   "metadata": {},
   "outputs": [],
   "source": [
    "model = tf.keras.models. Sequential ([  # Defining First Layer\n",
    "                                        tf.keras.layers.Conv2D(16, (3,3) ,activation = 'relu', input_shape = (200,200,3)),\n",
    "                                        # MaxPool takes Maximum Pixel Out of All\n",
    "                                        tf.keras.layers.MaxPool2D(2,2),\n",
    "                                        # Defining Second Layer\n",
    "                                        tf.keras.layers.Conv2D(32, (3,3) ,activation = 'relu'),\n",
    "                                        tf.keras.layers.MaxPool2D(2,2),\n",
    "                                        # Defining Third Layer\n",
    "                                        tf.keras.layers.Conv2D(64, (3,3) , activation = 'relu'),\n",
    "                                        tf.keras.layers.MaxPool2D(2,2),\n",
    "                                        # Defining fourth Layer\n",
    "                                        tf.keras.layers.Conv2D(128, (3,3) , activation = 'relu'),\n",
    "                                        tf.keras.layers.MaxPool2D(2,2),\n",
    "                                        #\n",
    "                                        tf.keras.layers.Flatten(),\n",
    "                                        #\n",
    "                                        tf. keras.layers.Dense(512, activation ='relu'),\n",
    "                                        #\n",
    "                                        tf.keras.layers.Dense(1,activation='sigmoid')\n",
    "                                    ])                        "
   ]
  },
  {
   "cell_type": "code",
   "execution_count": 13,
   "id": "5675eec2",
   "metadata": {},
   "outputs": [
    {
     "name": "stderr",
     "output_type": "stream",
     "text": [
      "d:\\Installation\\Conda\\lib\\site-packages\\keras\\optimizers\\optimizer_v2\\rmsprop.py:140: UserWarning: The `lr` argument is deprecated, use `learning_rate` instead.\n",
      "  super().__init__(name, **kwargs)\n"
     ]
    }
   ],
   "source": [
    "model.compile(loss=\"binary_crossentropy\",\n",
    "               optimizer = RMSprop(lr=0.001),\n",
    "               metrics =['accuracy'])"
   ]
  },
  {
   "cell_type": "code",
   "execution_count": 16,
   "id": "27cc4fe5",
   "metadata": {
    "scrolled": true
   },
   "outputs": [
    {
     "name": "stdout",
     "output_type": "stream",
     "text": [
      "Epoch 1/20\n",
      "30/30 [==============================] - 26s 894ms/step - loss: 0.1781 - accuracy: 0.9556 - val_loss: 0.3443 - val_accuracy: 0.8910\n",
      "Epoch 2/20\n",
      "30/30 [==============================] - 22s 733ms/step - loss: 0.3123 - accuracy: 0.9111 - val_loss: 0.3342 - val_accuracy: 0.8650\n",
      "Epoch 3/20\n",
      "30/30 [==============================] - 22s 730ms/step - loss: 0.1619 - accuracy: 0.9222 - val_loss: 0.1679 - val_accuracy: 0.9440\n",
      "Epoch 4/20\n",
      "30/30 [==============================] - 20s 660ms/step - loss: 0.2344 - accuracy: 0.9444 - val_loss: 0.2105 - val_accuracy: 0.9290\n",
      "Epoch 5/20\n",
      "30/30 [==============================] - 19s 650ms/step - loss: 0.1147 - accuracy: 0.9444 - val_loss: 0.1711 - val_accuracy: 0.9390\n",
      "Epoch 6/20\n",
      "30/30 [==============================] - 19s 638ms/step - loss: 0.0664 - accuracy: 0.9556 - val_loss: 0.4068 - val_accuracy: 0.9040\n",
      "Epoch 7/20\n",
      "30/30 [==============================] - 19s 649ms/step - loss: 0.2047 - accuracy: 0.9444 - val_loss: 0.1799 - val_accuracy: 0.9400\n",
      "Epoch 8/20\n",
      "30/30 [==============================] - 18s 622ms/step - loss: 0.1041 - accuracy: 0.9667 - val_loss: 0.1783 - val_accuracy: 0.9360\n",
      "Epoch 9/20\n",
      "30/30 [==============================] - 19s 628ms/step - loss: 0.0883 - accuracy: 0.9556 - val_loss: 0.1785 - val_accuracy: 0.9380\n",
      "Epoch 10/20\n",
      "30/30 [==============================] - 18s 612ms/step - loss: 0.2234 - accuracy: 0.9667 - val_loss: 0.1473 - val_accuracy: 0.9440\n",
      "Epoch 11/20\n",
      "30/30 [==============================] - 19s 653ms/step - loss: 0.2096 - accuracy: 0.9444 - val_loss: 0.1740 - val_accuracy: 0.9460\n",
      "Epoch 12/20\n",
      "30/30 [==============================] - 19s 641ms/step - loss: 0.1193 - accuracy: 0.9444 - val_loss: 0.1705 - val_accuracy: 0.9500\n",
      "Epoch 13/20\n",
      "30/30 [==============================] - 21s 697ms/step - loss: 0.1738 - accuracy: 0.9667 - val_loss: 0.5925 - val_accuracy: 0.8560\n",
      "Epoch 14/20\n",
      "30/30 [==============================] - 19s 657ms/step - loss: 0.2935 - accuracy: 0.9556 - val_loss: 0.1691 - val_accuracy: 0.9470\n",
      "Epoch 15/20\n",
      "30/30 [==============================] - 19s 636ms/step - loss: 0.0715 - accuracy: 0.9667 - val_loss: 0.1664 - val_accuracy: 0.9380\n",
      "Epoch 16/20\n",
      "30/30 [==============================] - 18s 619ms/step - loss: 0.0642 - accuracy: 0.9889 - val_loss: 0.1814 - val_accuracy: 0.9440\n",
      "Epoch 17/20\n",
      "30/30 [==============================] - 18s 626ms/step - loss: 0.2538 - accuracy: 0.9444 - val_loss: 0.3616 - val_accuracy: 0.9210\n",
      "Epoch 18/20\n",
      "30/30 [==============================] - 19s 652ms/step - loss: 0.0820 - accuracy: 0.9778 - val_loss: 0.2202 - val_accuracy: 0.9420\n",
      "Epoch 19/20\n",
      "30/30 [==============================] - 21s 705ms/step - loss: 0.0624 - accuracy: 0.9778 - val_loss: 0.2238 - val_accuracy: 0.9450\n",
      "Epoch 20/20\n",
      "30/30 [==============================] - 20s 669ms/step - loss: 0.4042 - accuracy: 0.9222 - val_loss: 0.1851 - val_accuracy: 0.9350\n"
     ]
    }
   ],
   "source": [
    "model_fit = model.fit(train_dataset,\n",
    "                      steps_per_epoch = 30,\n",
    "                      epochs= 20,\n",
    "                      validation_data = validation_dataset)"
   ]
  },
  {
   "cell_type": "code",
   "execution_count": 18,
   "id": "4f2594a1",
   "metadata": {},
   "outputs": [
    {
     "ename": "FileNotFoundError",
     "evalue": "[WinError 3] The system cannot find the path specified: 'E:/DatasetAfterAugmentation/Testing'",
     "output_type": "error",
     "traceback": [
      "\u001b[1;31m---------------------------------------------------------------------------\u001b[0m",
      "\u001b[1;31mFileNotFoundError\u001b[0m                         Traceback (most recent call last)",
      "\u001b[1;32mg:\\Desk Champions\\Hackathon.ipynb Cell 10\u001b[0m in \u001b[0;36m<cell line: 4>\u001b[1;34m()\u001b[0m\n\u001b[0;32m      <a href='vscode-notebook-cell:/g%3A/Desk%20Champions/Hackathon.ipynb#X12sZmlsZQ%3D%3D?line=1'>2</a>\u001b[0m k\u001b[39m=\u001b[39m\u001b[39m0\u001b[39m\n\u001b[0;32m      <a href='vscode-notebook-cell:/g%3A/Desk%20Champions/Hackathon.ipynb#X12sZmlsZQ%3D%3D?line=2'>3</a>\u001b[0m m\u001b[39m=\u001b[39m\u001b[39m0\u001b[39m\n\u001b[1;32m----> <a href='vscode-notebook-cell:/g%3A/Desk%20Champions/Hackathon.ipynb#X12sZmlsZQ%3D%3D?line=3'>4</a>\u001b[0m \u001b[39mfor\u001b[39;00m i \u001b[39min\u001b[39;00m os\u001b[39m.\u001b[39;49mlistdir (dir_path):\n\u001b[0;32m      <a href='vscode-notebook-cell:/g%3A/Desk%20Champions/Hackathon.ipynb#X12sZmlsZQ%3D%3D?line=4'>5</a>\u001b[0m     img \u001b[39m=\u001b[39m image\u001b[39m.\u001b[39mload_img(dir_path\u001b[39m+\u001b[39m\u001b[39m'\u001b[39m\u001b[39m//\u001b[39m\u001b[39m'\u001b[39m\u001b[39m+\u001b[39m i, target_size\u001b[39m=\u001b[39m(\u001b[39m200\u001b[39m, \u001b[39m200\u001b[39m))\n\u001b[0;32m      <a href='vscode-notebook-cell:/g%3A/Desk%20Champions/Hackathon.ipynb#X12sZmlsZQ%3D%3D?line=5'>6</a>\u001b[0m     plt\u001b[39m.\u001b[39mimshow(img)\n",
      "\u001b[1;31mFileNotFoundError\u001b[0m: [WinError 3] The system cannot find the path specified: 'E:/DatasetAfterAugmentation/Testing'"
     ]
    }
   ],
   "source": [
    "dir_path =\"E:/DatasetAfterAugmentation/Testing\"\n",
    "k=0\n",
    "m=0\n",
    "for i in os.listdir (dir_path):\n",
    "    img = image.load_img(dir_path+'//'+ i, target_size=(200, 200))\n",
    "    plt.imshow(img)\n",
    "    plt.show()\n",
    "    \n",
    "    X = image.img_to_array(img)\n",
    "    X = np.expand_dims(X,axis=0)\n",
    "    images = np.vstack([X])\n",
    "    val = model.predict(images)\n",
    "    if val == 0:\n",
    "        print (\"Curve\")\n",
    "        k=k+1\n",
    "    else:\n",
    "        print (\"Not a Curve\")\n",
    "        m=m+1\n",
    "        \n",
    "print(k,m)"
   ]
  },
  {
   "cell_type": "code",
   "execution_count": null,
   "id": "fa1c4c22",
   "metadata": {},
   "outputs": [],
   "source": []
  }
 ],
 "metadata": {
  "kernelspec": {
   "display_name": "Python 3.9.12 ('base')",
   "language": "python",
   "name": "python3"
  },
  "language_info": {
   "codemirror_mode": {
    "name": "ipython",
    "version": 3
   },
   "file_extension": ".py",
   "mimetype": "text/x-python",
   "name": "python",
   "nbconvert_exporter": "python",
   "pygments_lexer": "ipython3",
   "version": "3.9.12"
  },
  "vscode": {
   "interpreter": {
    "hash": "74a7c78a6a6e27eb369c295da52578255c11f495286f4854ae1eda59bf6d2eec"
   }
  }
 },
 "nbformat": 4,
 "nbformat_minor": 5
}
